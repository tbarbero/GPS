{
 "cells": [
  {
   "cell_type": "code",
   "execution_count": 1,
   "metadata": {},
   "outputs": [],
   "source": [
    "from ftplib import FTP\n",
    "import os, sys, os.path"
   ]
  },
  {
   "cell_type": "code",
   "execution_count": 24,
   "metadata": {},
   "outputs": [
    {
     "name": "stdout",
     "output_type": "stream",
     "text": [
      "Attempting login into Evan Lab GPS...\n",
      "Login successful.\n",
      "['drw-r--r-- 1 ftp ftp    32724 Sep 24 18:18 201909', 'drw-r--r-- 1 ftp ftp    32724 Sep 25 16:09 lost+found']\n",
      "['201909', 'lost+f']\n",
      "['201909']\n",
      "['22', '23']\n",
      "['83142650D.T02', '83142650E.T02', '83142651D.T02', '83142651E.T02', '83142652D.T02', '83142652E.T02', '83142653D.T02', '83142653E.T02', '83142654D.T02']\n",
      "Attempting login into Evan Lab GPS...\n",
      "Login successful.\n",
      "['83142650D.T02', '83142650E.T02', '83142651D.T02', '83142651E.T02', '83142652D.T02', '83142652E.T02', '83142653D.T02', '83142653E.T02', '83142654D.T02']\n",
      "/Internal/201909/22\n",
      "83142650D.T02\n",
      "/Users/tyler/Desktop/gpsfiletesting/83142654D.T02\n",
      "Writing binary data in GPS file  83142650D.T02 to /Users/tyler/Desktop/gpsfiletesting/83142654D.T02\n",
      "-------\n",
      "83142650E.T02\n",
      "/Users/tyler/Desktop/gpsfiletesting/83142654D.T02\n",
      "Writing binary data in GPS file  83142650E.T02 to /Users/tyler/Desktop/gpsfiletesting/83142654D.T02\n",
      "-------\n",
      "83142651D.T02\n",
      "/Users/tyler/Desktop/gpsfiletesting/83142654D.T02\n",
      "Writing binary data in GPS file  83142651D.T02 to /Users/tyler/Desktop/gpsfiletesting/83142654D.T02\n",
      "-------\n",
      "83142651E.T02\n",
      "/Users/tyler/Desktop/gpsfiletesting/83142654D.T02\n",
      "Writing binary data in GPS file  83142651E.T02 to /Users/tyler/Desktop/gpsfiletesting/83142654D.T02\n",
      "-------\n",
      "83142652D.T02\n",
      "/Users/tyler/Desktop/gpsfiletesting/83142654D.T02\n",
      "Writing binary data in GPS file  83142652D.T02 to /Users/tyler/Desktop/gpsfiletesting/83142654D.T02\n",
      "-------\n",
      "83142652E.T02\n",
      "/Users/tyler/Desktop/gpsfiletesting/83142654D.T02\n",
      "Writing binary data in GPS file  83142652E.T02 to /Users/tyler/Desktop/gpsfiletesting/83142654D.T02\n",
      "-------\n",
      "83142653D.T02\n",
      "/Users/tyler/Desktop/gpsfiletesting/83142654D.T02\n",
      "Writing binary data in GPS file  83142653D.T02 to /Users/tyler/Desktop/gpsfiletesting/83142654D.T02\n",
      "-------\n",
      "83142653E.T02\n",
      "/Users/tyler/Desktop/gpsfiletesting/83142654D.T02\n",
      "Writing binary data in GPS file  83142653E.T02 to /Users/tyler/Desktop/gpsfiletesting/83142654D.T02\n",
      "-------\n",
      "83142654D.T02\n",
      "/Users/tyler/Desktop/gpsfiletesting/83142654D.T02\n",
      "Writing binary data in GPS file  83142654D.T02 to /Users/tyler/Desktop/gpsfiletesting/83142654D.T02\n",
      "-------\n"
     ]
    },
    {
     "data": {
      "text/plain": [
       "'221 Goodbye.'"
      ]
     },
     "execution_count": 24,
     "metadata": {},
     "output_type": "execute_result"
    }
   ],
   "source": [
    "ftp = FTP('evan-lab-gps.ucsd.edu') \n",
    "print('Attempting login into Evan Lab GPS...')\n",
    "ftp.login('admin', 'evanlab')\n",
    "print('Login successful.')\n",
    "ftp.cwd('Internal');\n",
    "months = ftp.nlst()\n",
    "print(months)\n",
    "mons = [months[i][43:49] for i in range(0,len(months))]\n",
    "\n",
    "print(mons)\n",
    "\n",
    "monz = []\n",
    "for i in range(0,len(mons)):\n",
    "    if mons[i][0:4] == '2019':\n",
    "        monz.append(mons[i])\n",
    "print(monz)        \n",
    "\n",
    "for month in monz:\n",
    "    try:\n",
    "        ftp.cwd(month)\n",
    "        days = ftp.nlst() \n",
    "        #print(days)\n",
    "        ds = [days[i][43:49] for i in range(0,len(days))]\n",
    "        print(ds)\n",
    "        for day in ds:\n",
    "            try:\n",
    "                ftp.cwd(day)\n",
    "                datasets = ftp.nlst()\n",
    "                data = [datasets[i][43:56] for i in range(0,len(datasets))]\n",
    "                filename = []\n",
    "                \n",
    "                for x in range(0,len(data)):\n",
    "                    d = data[x]\n",
    "                    if d[9:13] == '.T02':\n",
    "                        filename.append(d)\n",
    "                        \n",
    "                print(filename)         \n",
    "                ftp.pwd()\n",
    "                \n",
    "#                 for f in filename:\n",
    "#                     remote_filename = os.path.join( '/', 'Internal', month, day, f)\n",
    "#                     print(remote_filename)\n",
    "#                     file = open(remote_filename, 'wb')\n",
    "#                     file.write(f)\n",
    "#                     ftp.retrbinary('RETR ' + f)\n",
    "                \n",
    "#                     file.close()\n",
    "            except: pass \n",
    "    except: pass\n",
    "\n",
    "ftp.quit()\n",
    "\n",
    "# # Create day directories\n",
    "# for daay in ds:\n",
    "#     day_dir = os.mkdir(daay)\n",
    "#     b = os.chdir(a + daay)\n",
    "\n",
    "    # Create text files under the path: '/Users/tyler/Desktop/gpsfiletesting/'respective_day''\n",
    "for f in filename:\n",
    "    local_filename = os.path.join('/Users/tyler/Desktop/gpsfiletesting/', f) #path to local file dir\n",
    "    local_files = open(local_filename, 'w+')\n",
    "    local_files.close()    \n",
    "\n",
    "ftp = FTP('evan-lab-gps.ucsd.edu') \n",
    "print('Attempting login into Evan Lab GPS...')\n",
    "ftp.login('admin', 'evanlab')\n",
    "print('Login successful.')\n",
    "\n",
    "ftp.cwd('Internal');\n",
    "ftp.cwd('201909')\n",
    "ftp.cwd('22')\n",
    "ftp.pwd()\n",
    "datasets = ftp.nlst()\n",
    "data = [datasets[i][43:56] for i in range(0,len(datasets))]\n",
    "\n",
    "filename = []\n",
    "for x in range(0,len(data)):\n",
    "    d = data[x]\n",
    "    if d[9:13] == '.T02':\n",
    "        filename.append(d)\n",
    "        \n",
    "print(filename)\n",
    "\n",
    "print(ftp.pwd())\n",
    "\n",
    "for f in filename:\n",
    "    \n",
    "    print(f)\n",
    "    print(local_filename)\n",
    "    print('Writing binary data in GPS file ', f, 'to', local_filename)\n",
    "    print('-------')\n",
    "    \n",
    "    file=open(local_filename, 'wb') #writing the file f in filename to a local file on my computer\n",
    "    ftp.retrbinary('RETR ' + f, file.write)\n",
    "    file.close()\n",
    "    \n",
    "ftp.quit()"
   ]
  },
  {
   "cell_type": "code",
   "execution_count": 14,
   "metadata": {
    "scrolled": true
   },
   "outputs": [
    {
     "name": "stdout",
     "output_type": "stream",
     "text": [
      "Attempting login into Evan Lab GPS...\n",
      "Login successful.\n",
      "['drw-r--r-- 1 ftp ftp    32724 Sep 24 18:18 201909', 'drw-r--r-- 1 ftp ftp    32724 Sep 25 16:09 lost+found']\n",
      "['201909', 'lost+f']\n",
      "['201909']\n",
      "['22', '23']\n",
      "['83142650D.T02', '83142650E.T02', '83142651D.T02', '83142651E.T02', '83142652D.T02', '83142652E.T02', '83142653D.T02', '83142653E.T02', '83142654D.T02']\n"
     ]
    },
    {
     "ename": "FileExistsError",
     "evalue": "[Errno 17] File exists: '22'",
     "output_type": "error",
     "traceback": [
      "\u001b[0;31m---------------------------------------------------------------------------\u001b[0m",
      "\u001b[0;31mFileExistsError\u001b[0m                           Traceback (most recent call last)",
      "\u001b[0;32m<ipython-input-14-59da61774b75>\u001b[0m in \u001b[0;36m<module>\u001b[0;34m\u001b[0m\n\u001b[1;32m     62\u001b[0m \u001b[0ma\u001b[0m \u001b[0;34m=\u001b[0m \u001b[0;34m'/Users/tyler/Desktop/gpsfiletesting/'\u001b[0m\u001b[0;34m\u001b[0m\u001b[0;34m\u001b[0m\u001b[0m\n\u001b[1;32m     63\u001b[0m \u001b[0;32mfor\u001b[0m \u001b[0mdaay\u001b[0m \u001b[0;32min\u001b[0m \u001b[0mds\u001b[0m\u001b[0;34m:\u001b[0m\u001b[0;34m\u001b[0m\u001b[0;34m\u001b[0m\u001b[0m\n\u001b[0;32m---> 64\u001b[0;31m     \u001b[0mos\u001b[0m\u001b[0;34m.\u001b[0m\u001b[0mmkdir\u001b[0m\u001b[0;34m(\u001b[0m\u001b[0mdaay\u001b[0m\u001b[0;34m)\u001b[0m\u001b[0;34m\u001b[0m\u001b[0;34m\u001b[0m\u001b[0m\n\u001b[0m\u001b[1;32m     65\u001b[0m     \u001b[0;31m# Create empty text files in each day, corresponding to data file names\u001b[0m\u001b[0;34m\u001b[0m\u001b[0;34m\u001b[0m\u001b[0;34m\u001b[0m\u001b[0m\n\u001b[1;32m     66\u001b[0m     \u001b[0;32mfor\u001b[0m \u001b[0mf\u001b[0m \u001b[0;32min\u001b[0m \u001b[0mfilename\u001b[0m\u001b[0;34m:\u001b[0m\u001b[0;34m\u001b[0m\u001b[0;34m\u001b[0m\u001b[0m\n",
      "\u001b[0;31mFileExistsError\u001b[0m: [Errno 17] File exists: '22'"
     ]
    }
   ],
   "source": [
    "ftp = FTP('evan-lab-gps.ucsd.edu') \n",
    "print('Attempting login into Evan Lab GPS...')\n",
    "ftp.login('admin', 'evanlab')\n",
    "print('Login successful.')\n",
    "ftp.cwd('Internal');\n",
    "months = ftp.nlst()\n",
    "print(months)\n",
    "mons = [months[i][43:49] for i in range(0,len(months))]\n",
    "print(mons)\n",
    "\n",
    "monz = []\n",
    "for i in range(0,len(mons)):\n",
    "    if mons[i][0:4] == '2019':\n",
    "        monz.append(mons[i])\n",
    "print(monz)        \n",
    "\n",
    "for month in monz:\n",
    "    try:\n",
    "        ftp.cwd(month)\n",
    "        days = ftp.nlst() \n",
    "        #print(days)\n",
    "        ds = [days[i][43:49] for i in range(0,len(days))]\n",
    "        print(ds)\n",
    "        for day in ds:\n",
    "            try:\n",
    "                ftp.cwd(day)\n",
    "                datasets = ftp.nlst()\n",
    "                data = [datasets[i][43:56] for i in range(0,len(datasets))]\n",
    "                filename = []\n",
    "                \n",
    "                for x in range(0,len(data)):\n",
    "                    d = data[x]\n",
    "                    if d[9:13] == '.T02':\n",
    "                        filename.append(d)\n",
    "                        \n",
    "                print(filename)         \n",
    "                ftp.pwd()\n",
    "                \n",
    "#                 for f in filename:\n",
    "#                     remote_filename = os.path.join( '/', 'Internal', month, day, f)\n",
    "#                     print(remote_filename)\n",
    "#                     file = open(remote_filename, 'wb')\n",
    "#                     file.write(f)\n",
    "#                     ftp.retrbinary('RETR ' + f)\n",
    "                \n",
    "#                     file.close()\n",
    "            except: pass \n",
    "    except: pass\n",
    "\n",
    "ftp.quit()\n",
    "#ds = [ int(x) for x in ds ]\n",
    "\n",
    "#os.getcwd()\n",
    "\n",
    "# Create months directory under the path:\n",
    "#try:\n",
    "# for q in monz:\n",
    "#     os.mkdir(q)\n",
    "#     os.chdir('/Users/tyler/Desktop/gpsfiletesting/' + q)\n",
    "        \n",
    "# Create directory under the path:\n",
    "a = '/Users/tyler/Desktop/gpsfiletesting/'\n",
    "for daay in ds:\n",
    "    os.mkdir(daay)\n",
    "    # Create empty text files in each day, corresponding to data file names\n",
    "    for f in filename:\n",
    "        local_filename = os.path.join(daay,'/', f) #path to local file dir\n",
    "        local_files = open(local_filename, 'w+')\n",
    "        local_files.close()    \n",
    "# #except: pass\n",
    "# ftp = FTP('evan-lab-gps.ucsd.edu') \n",
    "# print('Attempting login into Evan Lab GPS...')\n",
    "# ftp.login('admin', 'evanlab')\n",
    "# print('Login successful.')\n",
    "\n",
    "# ftp.cwd('Internal');\n",
    "# ftp.cwd('201909')\n",
    "# ftp.cwd('22')\n",
    "# ftp.pwd()\n",
    "# datasets = ftp.nlst()\n",
    "# data = [datasets[i][43:56] for i in range(0,len(datasets))]\n",
    "\n",
    "# filename = []\n",
    "# for x in range(0,len(data)):\n",
    "#     d = data[x]\n",
    "#     if d[9:13] == '.T02':\n",
    "#         filename.append(d)\n",
    "        \n",
    "# print(filename)\n",
    "\n",
    "# print(ftp.pwd())\n",
    "\n",
    "# for f in filename:\n",
    "#     print(f)\n",
    "#     print(local_filename)\n",
    "#     print('Writing binary data in GPS file ', f, 'to', local_filename)\n",
    "#     print('-------')\n",
    "#     file=open(local_filename, 'wb') #writing the file f in filename to a local file on my computer\n",
    "#     ftp.retrbinary('RETR ' + f, file.write)\n",
    "#     file.close()"
   ]
  },
  {
   "cell_type": "code",
   "execution_count": 5,
   "metadata": {},
   "outputs": [
    {
     "name": "stdout",
     "output_type": "stream",
     "text": [
      "['83142650D.T02', '83142650E.T02', '83142651D.T02', '83142651E.T02', '83142652D.T02', '83142652E.T02', '83142653D.T02', '83142653E.T02', '83142654D.T02']\n"
     ]
    }
   ],
   "source": [
    "print(filename)"
   ]
  },
  {
   "cell_type": "code",
   "execution_count": null,
   "metadata": {
    "scrolled": false
   },
   "outputs": [],
   "source": [
    "%whos"
   ]
  },
  {
   "cell_type": "code",
   "execution_count": null,
   "metadata": {},
   "outputs": [],
   "source": [
    "print(monz)"
   ]
  },
  {
   "cell_type": "code",
   "execution_count": 11,
   "metadata": {},
   "outputs": [
    {
     "name": "stdout",
     "output_type": "stream",
     "text": [
      "No variables match your requested type.\n"
     ]
    }
   ],
   "source": [
    "%whos"
   ]
  },
  {
   "cell_type": "code",
   "execution_count": null,
   "metadata": {},
   "outputs": [],
   "source": [
    "# writes empty files to local directory\n",
    "for f in filename:\n",
    "    local_filename = os.path.join('/Users/tyler/Desktop/gpsfiletesting/',f)\n",
    "    local_files = open(local_filename, 'w+')\n",
    "    local_files.close()"
   ]
  },
  {
   "cell_type": "code",
   "execution_count": null,
   "metadata": {},
   "outputs": [],
   "source": [
    "#for daay in ds:\n",
    "os.getcwd()\n",
    "os.mkdir('Users/tyler/Desktop/gpsfiletesting/'+ ds[0])"
   ]
  },
  {
   "cell_type": "code",
   "execution_count": 15,
   "metadata": {},
   "outputs": [],
   "source": [
    "try:\n",
    "    for q in monz:\n",
    "        os.mkdir(q)\n",
    "        month_dir = os.chdir('/Users/tyler/Desktop/gpsfiletesting/' + q)\n",
    "        # Create directory under the path:\n",
    "        for daay in ds:\n",
    "            day_dir = os.mkdir(daay)\n",
    "\n",
    "            # Create text files under the path: '/Users/tyler/Desktop/gpsfiletesting/'respective_day''\n",
    "            for f in filename:\n",
    "                local_filename = os.path.join(month_dir, daay, f) #path to local file dir\n",
    "                local_files = open(local_filename, 'w+')\n",
    "                local_files.close()\n",
    "except: pass"
   ]
  },
  {
   "cell_type": "code",
   "execution_count": 20,
   "metadata": {},
   "outputs": [
    {
     "ename": "FileExistsError",
     "evalue": "[Errno 17] File exists: '22'",
     "output_type": "error",
     "traceback": [
      "\u001b[0;31m---------------------------------------------------------------------------\u001b[0m",
      "\u001b[0;31mFileExistsError\u001b[0m                           Traceback (most recent call last)",
      "\u001b[0;32m<ipython-input-20-23f7dacb36ba>\u001b[0m in \u001b[0;36m<module>\u001b[0;34m\u001b[0m\n\u001b[1;32m      1\u001b[0m \u001b[0;32mfor\u001b[0m \u001b[0mdaay\u001b[0m \u001b[0;32min\u001b[0m \u001b[0mds\u001b[0m\u001b[0;34m:\u001b[0m\u001b[0;34m\u001b[0m\u001b[0;34m\u001b[0m\u001b[0m\n\u001b[0;32m----> 2\u001b[0;31m     \u001b[0mos\u001b[0m\u001b[0;34m.\u001b[0m\u001b[0mmkdir\u001b[0m\u001b[0;34m(\u001b[0m\u001b[0mdaay\u001b[0m\u001b[0;34m)\u001b[0m\u001b[0;34m\u001b[0m\u001b[0;34m\u001b[0m\u001b[0m\n\u001b[0m\u001b[1;32m      3\u001b[0m     \u001b[0;31m# Create empty text files in each day, corresponding to data file names\u001b[0m\u001b[0;34m\u001b[0m\u001b[0;34m\u001b[0m\u001b[0;34m\u001b[0m\u001b[0m\n\u001b[1;32m      4\u001b[0m     \u001b[0;32mfor\u001b[0m \u001b[0mf\u001b[0m \u001b[0;32min\u001b[0m \u001b[0mfilename\u001b[0m\u001b[0;34m:\u001b[0m\u001b[0;34m\u001b[0m\u001b[0;34m\u001b[0m\u001b[0m\n\u001b[1;32m      5\u001b[0m         \u001b[0mlocal_filename\u001b[0m \u001b[0;34m=\u001b[0m \u001b[0mos\u001b[0m\u001b[0;34m.\u001b[0m\u001b[0mpath\u001b[0m\u001b[0;34m.\u001b[0m\u001b[0mjoin\u001b[0m\u001b[0;34m(\u001b[0m\u001b[0ma\u001b[0m\u001b[0;34m,\u001b[0m \u001b[0mdaay\u001b[0m\u001b[0;34m,\u001b[0m\u001b[0;34m'/'\u001b[0m\u001b[0;34m,\u001b[0m \u001b[0mf\u001b[0m\u001b[0;34m)\u001b[0m \u001b[0;31m#path to local file dir\u001b[0m\u001b[0;34m\u001b[0m\u001b[0;34m\u001b[0m\u001b[0m\n",
      "\u001b[0;31mFileExistsError\u001b[0m: [Errno 17] File exists: '22'"
     ]
    }
   ],
   "source": [
    "for daay in ds:\n",
    "    os.mkdir(daay)\n",
    "    # Create empty text files in each day, corresponding to data file names\n",
    "    for f in filename:\n",
    "        local_filename = os.path.join(a, daay,'/', f) #path to local file dir\n",
    "        local_files = open(local_filename, 'w+')\n",
    "        local_files.close()    "
   ]
  },
  {
   "cell_type": "code",
   "execution_count": null,
   "metadata": {},
   "outputs": [],
   "source": []
  }
 ],
 "metadata": {
  "kernelspec": {
   "display_name": "Python 3",
   "language": "python",
   "name": "python3"
  },
  "language_info": {
   "codemirror_mode": {
    "name": "ipython",
    "version": 3
   },
   "file_extension": ".py",
   "mimetype": "text/x-python",
   "name": "python",
   "nbconvert_exporter": "python",
   "pygments_lexer": "ipython3",
   "version": "3.7.3"
  }
 },
 "nbformat": 4,
 "nbformat_minor": 2
}
