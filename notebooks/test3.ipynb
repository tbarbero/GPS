{
 "cells": [
  {
   "cell_type": "code",
   "execution_count": 1,
   "metadata": {},
   "outputs": [],
   "source": [
    "from ftplib import FTP\n",
    "import os, sys, os.path"
   ]
  },
  {
   "cell_type": "code",
   "execution_count": 24,
   "metadata": {},
   "outputs": [
    {
     "name": "stdout",
     "output_type": "stream",
     "text": [
      "Attempting login into Evan Lab GPS...\n",
      "Login successful.\n"
     ]
    }
   ],
   "source": [
    "ftp = FTP('evan-lab-gps.ucsd.edu') \n",
    "print('Attempting login into Evan Lab GPS...')\n",
    "ftp.login('admin', 'evanlab')\n",
    "print('Login successful.')"
   ]
  },
  {
   "cell_type": "markdown",
   "metadata": {},
   "source": [
    "# Reset to Internal Directory without having to re-sign into the server."
   ]
  },
  {
   "cell_type": "code",
   "execution_count": 25,
   "metadata": {},
   "outputs": [
    {
     "name": "stdout",
     "output_type": "stream",
     "text": [
      "Returning to Top Internal Directory\n"
     ]
    }
   ],
   "source": [
    "ftp.cwd('/Internal')\n",
    "print('Returning to Top Internal Directory')"
   ]
  },
  {
   "cell_type": "markdown",
   "metadata": {},
   "source": [
    "# Getting the correct 'months' list"
   ]
  },
  {
   "cell_type": "code",
   "execution_count": 26,
   "metadata": {},
   "outputs": [
    {
     "name": "stdout",
     "output_type": "stream",
     "text": [
      "['201909']\n"
     ]
    }
   ],
   "source": [
    "m = ftp.nlst()\n",
    "mons = [m[i][43:49] for i in range(0,len(m))]\n",
    "months = []\n",
    "for a in range(0,len(mons)):\n",
    "    if mons[a][0:4] == '2019':\n",
    "        months.append(mons[a])\n",
    "print(months)"
   ]
  },
  {
   "cell_type": "markdown",
   "metadata": {},
   "source": [
    "# Getting the correct 'days' list"
   ]
  },
  {
   "cell_type": "code",
   "execution_count": 27,
   "metadata": {},
   "outputs": [
    {
     "name": "stdout",
     "output_type": "stream",
     "text": [
      "In day 22 ['83142650D.T02', '83142650E.T02', '83142651D.T02', '83142651E.T02', '83142652D.T02', '83142652E.T02', '83142653D.T02', '83142653E.T02', '83142654D.T02']\n",
      "In day 23 ['83142660E.T02', '83142661E.T02', '83142662E.T02', '83142663E.T02', '83142664E.T02']\n",
      "In day 22 ['83142650D.T02', '83142650E.T02', '83142651D.T02', '83142651E.T02', '83142652D.T02', '83142652E.T02', '83142653D.T02', '83142653E.T02', '83142654D.T02']\n",
      "In day 23 ['83142660E.T02', '83142661E.T02', '83142662E.T02', '83142663E.T02', '83142664E.T02']\n"
     ]
    }
   ],
   "source": [
    "for month in months:\n",
    "    ftp.cwd('/Internal')\n",
    "    ftp.cwd(month)\n",
    "    d = ftp.nlst()\n",
    "    for b in d:\n",
    "        days = [d[c][43:49] for c in range(0,len(d))]\n",
    "        for day in days:\n",
    "    \n",
    "            ftp.cwd(day)\n",
    "            f = ftp.nlst() # -------------------------------- list of all files in each day\n",
    "            files = [f[e][43:56] for e in range(0,len(f))] #- gets only file name\n",
    "            t02files = []  # --------------------------------------------------------------------------\n",
    "            for g in range(0,len(files)): # ---------------------------------- These lines isolate .T02\n",
    "                if files[g][9:13] == '.T02': # ------------------------------- files into 't02files'\n",
    "                    t02files.append(files[g]) # -------------------------------------------------------\n",
    "            print('In day', day, t02files)\n",
    "            ftp.cwd('/Internal/'+month)    \n",
    "                \n",
    "            \n",
    "            \n",
    "            "
   ]
  },
  {
   "cell_type": "code",
   "execution_count": 18,
   "metadata": {},
   "outputs": [
    {
     "name": "stdout",
     "output_type": "stream",
     "text": [
      "['83142660E.T02', '83142661E.T02', '83142662E.T02', '83142663E.T02', '83142664E.T02']\n"
     ]
    }
   ],
   "source": [
    "print(t02files)\n"
   ]
  },
  {
   "cell_type": "code",
   "execution_count": 31,
   "metadata": {},
   "outputs": [
    {
     "name": "stdout",
     "output_type": "stream",
     "text": [
      "Variable   Type      Data/Info\n",
      "------------------------------\n",
      "FTP        type      <class 'ftplib.FTP'>\n",
      "a          int       8\n",
      "ftp        FTP       <ftplib.FTP object at 0x107913780>\n",
      "m          list      n=9\n",
      "mons       list      n=9\n",
      "months     list      n=0\n",
      "monthz     list      n=0\n",
      "os         module    <module 'os' from '/anaco<...>da3/lib/python3.7/os.py'>\n",
      "sys        module    <module 'sys' (built-in)>\n"
     ]
    }
   ],
   "source": [
    "%whos"
   ]
  },
  {
   "cell_type": "code",
   "execution_count": 32,
   "metadata": {},
   "outputs": [
    {
     "ename": "NameError",
     "evalue": "name 'all' is not defined",
     "output_type": "error",
     "traceback": [
      "\u001b[0;31m---------------------------------------------------------------------------\u001b[0m",
      "\u001b[0;31mNameError\u001b[0m                                 Traceback (most recent call last)",
      "\u001b[0;32m<ipython-input-32-1f22321ba108>\u001b[0m in \u001b[0;36m<module>\u001b[0;34m\u001b[0m\n\u001b[0;32m----> 1\u001b[0;31m \u001b[0;32mdel\u001b[0m \u001b[0mall\u001b[0m\u001b[0;34m\u001b[0m\u001b[0;34m\u001b[0m\u001b[0m\n\u001b[0m",
      "\u001b[0;31mNameError\u001b[0m: name 'all' is not defined"
     ]
    }
   ],
   "source": [
    "del "
   ]
  },
  {
   "cell_type": "code",
   "execution_count": null,
   "metadata": {},
   "outputs": [],
   "source": []
  }
 ],
 "metadata": {
  "kernelspec": {
   "display_name": "Python 3",
   "language": "python",
   "name": "python3"
  },
  "language_info": {
   "codemirror_mode": {
    "name": "ipython",
    "version": 3
   },
   "file_extension": ".py",
   "mimetype": "text/x-python",
   "name": "python",
   "nbconvert_exporter": "python",
   "pygments_lexer": "ipython3",
   "version": "3.7.3"
  }
 },
 "nbformat": 4,
 "nbformat_minor": 2
}
