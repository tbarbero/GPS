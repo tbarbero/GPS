{
 "cells": [
  {
   "cell_type": "markdown",
   "metadata": {},
   "source": [
    "# Import required modules"
   ]
  },
  {
   "cell_type": "code",
   "execution_count": null,
   "metadata": {},
   "outputs": [],
   "source": [
    "from ftplib import FTP\n",
    "import os, sys, os.path"
   ]
  },
  {
   "cell_type": "markdown",
   "metadata": {},
   "source": [
    "# Login to the GPS via FTP session"
   ]
  },
  {
   "cell_type": "markdown",
   "metadata": {},
   "source": [
    "user = *******\n",
    "pass = *******"
   ]
  },
  {
   "cell_type": "markdown",
   "metadata": {},
   "source": [
    "# Change directory and/or reset to GPS Home Dir"
   ]
  },
  {
   "cell_type": "code",
   "execution_count": null,
   "metadata": {},
   "outputs": [],
   "source": [
    "ftp.cwd('/Internal')\n",
    "print('Returning to Top Internal Directory')"
   ]
  },
  {
   "cell_type": "markdown",
   "metadata": {},
   "source": [
    "# Code configured to Sahara"
   ]
  },
  {
   "cell_type": "code",
   "execution_count": null,
   "metadata": {},
   "outputs": [],
   "source": [
    "localdir = ('/home/tbarbero/gps')\n",
    "\n",
    "# File names are messed up long strings with other information\n",
    "# We need a list of just the months '201909, 201910' etc...\n",
    "# mons isolates the file names, but theres a random 'lost+found' directory so we do this again\n",
    "# months isolates only the MONTH file names\n",
    "m = ftp.nlst()\n",
    "mons = [m[i][43:49] for i in range(0,len(m))]\n",
    "months = []\n",
    "for a in range(0,len(mons)):\n",
    "    if mons[a][0:2] == '20':\n",
    "        months.append(mons[a])\n",
    "        \n",
    "# Looping through the GPS directories to get one variable for the days directory and the data files directory.\n",
    "\n",
    "for month in months:\n",
    "    ftp.cwd('/Internal')\n",
    "    ftp.cwd(month)\n",
    "    d = ftp.nlst()\n",
    "    days = [d[c][43:49] for c in range(0,len(d))]\n",
    "    for day in days:\n",
    "        ftp.cwd('/Internal/'+month)\n",
    "        ftp.cwd(day)\n",
    "        f = ftp.nlst()\n",
    "        files = [f[e][43:56] for e in range(0,len(f))]\n",
    "        t02files = []\n",
    "        \n",
    "        for g in range(0,len(files)):\n",
    "            if files[g][9:13] == 'T02':\n",
    "                t02files.append(files[g])\n",
    "        for fi in range(0,len(.t02files)):\n",
    "            os.chdir(localdir)\n",
    "            try:\n",
    "                os.mkdir(month)\n",
    "            except:pass\n",
    "            os.chdir(month)\n",
    "            try:\n",
    "                os.mkdir(day)\n",
    "            except:pass\n",
    "            os.chdir(day)\n",
    "            \n",
    "            localfile = os.path.join(localdir,month,day,t02files[fi])\n",
    "            file = open(t02files[fi], \"wb+\")\n",
    "            ftp.retrbinary('RETR '+ t02files[fi], file.write)\n",
    "            file.close()\n",
    "ftp.quit()\n",
    "print('Leaving FTP-GPS session...')"
   ]
  }
 ],
 "metadata": {
  "kernelspec": {
   "display_name": "Python 3",
   "language": "python",
   "name": "python3"
  },
  "language_info": {
   "codemirror_mode": {
    "name": "ipython",
    "version": 3
   },
   "file_extension": ".py",
   "mimetype": "text/x-python",
   "name": "python",
   "nbconvert_exporter": "python",
   "pygments_lexer": "ipython3",
   "version": "3.7.3"
  }
 },
 "nbformat": 4,
 "nbformat_minor": 2
}
