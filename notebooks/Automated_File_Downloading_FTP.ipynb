{
 "cells": [
  {
   "cell_type": "code",
   "execution_count": 3,
   "metadata": {},
   "outputs": [],
   "source": [
    "from ftplib import FTP\n",
    "import os, sys, os.path"
   ]
  },
  {
   "cell_type": "markdown",
   "metadata": {},
   "source": [
    "# Logging into the server"
   ]
  },
  {
   "cell_type": "code",
   "execution_count": 4,
   "metadata": {},
   "outputs": [
    {
     "name": "stdout",
     "output_type": "stream",
     "text": [
      "Attempting login into Evan Lab GPS...\n",
      "Login successful.\n"
     ]
    }
   ],
   "source": [
    "ftp = FTP('evan-lab-gps.ucsd.edu')\n",
    "print('Attempting login into Evan Lab GPS...')\n",
    "ftp.login('username', 'password')\n",
    "print('Login successful.')"
   ]
  },
  {
   "cell_type": "markdown",
   "metadata": {},
   "source": [
    "# Reset to Internal Directory without having to re-sign into the server"
   ]
  },
  {
   "cell_type": "code",
   "execution_count": 5,
   "metadata": {},
   "outputs": [
    {
     "name": "stdout",
     "output_type": "stream",
     "text": [
      "Returning to Top Internal Directory\n"
     ]
    }
   ],
   "source": [
    "ftp.cwd('/Internal')\n",
    "print('Returning to Top Internal Directory')"
   ]
  },
  {
   "cell_type": "markdown",
   "metadata": {},
   "source": [
    "# Clean code "
   ]
  },
  {
   "cell_type": "code",
   "execution_count": 6,
   "metadata": {
    "scrolled": true
   },
   "outputs": [
    {
     "name": "stdout",
     "output_type": "stream",
     "text": [
      "Leaving FTP-GPS session...\n"
     ]
    }
   ],
   "source": [
    "localdir = ('/Users/tyler/Desktop/gpsfiletesting/')\n",
    "m = ftp.nlst()\n",
    "mons = [m[i][43:49] for i in range(0,len(m))]\n",
    "months = []\n",
    "for a in range(0,len(mons)):\n",
    "    if mons[a][0:4] == '2019':\n",
    "        months.append(mons[a])\n",
    "\n",
    "for month in months:\n",
    "    ftp.cwd('/Internal')\n",
    "    ftp.cwd(month)\n",
    "    d = ftp.nlst()\n",
    "    days = [d[c][43:49] for c in range(0,len(d))]\n",
    "    for day in days:\n",
    "        ftp.cwd('/Internal/'+month)\n",
    "        ftp.cwd(day)\n",
    "        f = ftp.nlst()\n",
    "        files = [f[e][43:56] for e in range(0,len(f))]\n",
    "        t02files = []\n",
    "        for g in range(0,len(files)):\n",
    "            if files[g][9:13] == '.T02':\n",
    "                t02files.append(files[g])\n",
    "                \n",
    "        for fi in range(0, len(t02files)):\n",
    "            os.chdir(localdir)\n",
    "            try:\n",
    "                os.mkdir(month)\n",
    "            except:pass\n",
    "            os.chdir(month)\n",
    "            try:\n",
    "                os.mkdir(day)\n",
    "            except:pass\n",
    "            os.chdir(day)\n",
    "            \n",
    "            localfile = os.path.join(localdir,month,day,t02files[fi])\n",
    "            file = open(t02files[fi], \"wb+\")\n",
    "            ftp.retrbinary('RETR '+ t02files[fi], file.write)\n",
    "            file.close()\n",
    "ftp.quit()\n",
    "print('Leaving FTP-GPS session...')"
   ]
  },
  {
   "cell_type": "markdown",
   "metadata": {},
   "source": [
    "# Documented code"
   ]
  },
  {
   "cell_type": "code",
   "execution_count": null,
   "metadata": {},
   "outputs": [],
   "source": [
    "localdir = ('/Users/tyler/Desktop/gpsfiletesting/') # assigning a path to local directory for later\n",
    "m = ftp.nlst() # ------------------------------------ gets the list of months\n",
    "mons = [m[i][43:49] for i in range(0,len(m))] # ----- isolates the name of each directory\n",
    "months = [] # --------------------------------------- create an empty list called months\n",
    "for a in range(0,len(mons)): # ---------------------- isolates correct list of months\n",
    "    if mons[a][0:4] == '2019': # -----------------------------------------------------------------  \n",
    "        months.append(mons[a]) # ------------------------------------------------------------------ \n",
    "\n",
    "for month in months: # ------------------------------------------------------\n",
    "    ftp.cwd('/Internal') # goes through each month \n",
    "    ftp.cwd(month) # and creates a list of days\n",
    "    d = ftp.nlst() # --------------------------------------------------------\n",
    "    days = [d[c][43:49] for c in range(0,len(d))] # isolates the correct list of days\n",
    "    for day in days:\n",
    "        ftp.cwd('/Internal/'+month) # ------------- reset directory to the month so we can \n",
    "        ftp.cwd(day) # ---------------------------- change directory into the next day\n",
    "        f = ftp.nlst() # -------------------------------- list of all files in each day\n",
    "        files = [f[e][43:56] for e in range(0,len(f))] #- gets only file name\n",
    "        t02files = []  # --------------------------------------------------------------------------\n",
    "        for g in range(0,len(files)): # ---------------------------------- These lines isolate .T02\n",
    "            if files[g][9:13] == '.T02': # ------------------------------- files into 't02files'\n",
    "                t02files.append(files[g]) # -------------------------------------------------------\n",
    "                \n",
    "        for fi in range(0, len(t02files)): # ----------------------------- \n",
    "            os.chdir(localdir) # ------------------ change local directory into directory we want to store files\n",
    "            try: \n",
    "                os.mkdir(month) # ----------------- making local month directory, if it already exists, continue\n",
    "            except:pass\n",
    "            os.chdir(month) # --------------------- change local directory into month we just created \n",
    "            try:\n",
    "                os.mkdir(day) # ------------------- make directory of each day we have files for\n",
    "            except:pass\n",
    "            os.chdir(day) # ----------------------- change local directory into the day we just created\n",
    "            \n",
    "            localfile = os.path.join(localdir,month,day,t02files[fi]) # defining local path to each file\n",
    "            file = open(t02files[fi], \"wb+\") # opening empty file in localfile directory with respective file name\n",
    "            ftp.retrbinary('RETR '+ t02files[fi], file.write) # write the binary data from GPS to local file\n",
    "            file.close() # close file\n",
    "ftp.quit() # quit ftp session\n",
    "print('Leaving FTP-GPS session...')"
   ]
  },
  {
   "cell_type": "markdown",
   "metadata": {},
   "source": [
    "# Getting the correct 'months/days/files' list"
   ]
  },
  {
   "cell_type": "code",
   "execution_count": null,
   "metadata": {},
   "outputs": [],
   "source": [
    "localdir = ('/Users/tyler/Desktop/gpsfiletesting/')\n",
    "m = ftp.nlst()\n",
    "mons = [m[i][43:49] for i in range(0,len(m))]\n",
    "months = []\n",
    "for a in range(0,len(mons)):\n",
    "    if mons[a][0:4] == '2019':\n",
    "        months.append(mons[a])"
   ]
  },
  {
   "cell_type": "code",
   "execution_count": null,
   "metadata": {},
   "outputs": [],
   "source": [
    "for month in months:\n",
    "    ftp.cwd('/Internal')\n",
    "    ftp.cwd(month)\n",
    "    d = ftp.nlst()\n",
    "    days = [d[c][43:49] for c in range(0,len(d))]\n",
    "    for day in days:\n",
    "        ftp.cwd(day)\n",
    "        f = ftp.nlst() # -------------------------------- list of all files in each day\n",
    "        files = [f[e][43:56] for e in range(0,len(f))] #- gets only file name\n",
    "        t02files = []  # --------------------------------------------------------------------------\n",
    "        for g in range(0,len(files)): # ---------------------------------- These lines isolate .T02\n",
    "            if files[g][9:13] == '.T02': # ------------------------------- files into 't02files'\n",
    "                t02files.append(files[g]) # -------------------------------------------------------\n",
    "        print('In month', month, 'In day', day, t02files)\n",
    "        ftp.cwd('/Internal/'+month)\n",
    "        \n",
    "ftp.quit()"
   ]
  },
  {
   "cell_type": "markdown",
   "metadata": {},
   "source": [
    "# Base code configured to Sahara"
   ]
  },
  {
   "cell_type": "markdown",
   "metadata": {},
   "source": [
    "# pwd: /home/tbarbero/gps\n",
    "# this script would be stored in sahara, under \n",
    "localdir = '/home/tbarbero/gps'"
   ]
  },
  {
   "cell_type": "markdown",
   "metadata": {},
   "source": [
    "# Useful commands"
   ]
  },
  {
   "cell_type": "code",
   "execution_count": null,
   "metadata": {},
   "outputs": [],
   "source": [
    "os.mkdir()"
   ]
  },
  {
   "cell_type": "code",
   "execution_count": null,
   "metadata": {},
   "outputs": [],
   "source": [
    "os.getcwd()"
   ]
  },
  {
   "cell_type": "code",
   "execution_count": null,
   "metadata": {},
   "outputs": [],
   "source": [
    "os.chdir()"
   ]
  },
  {
   "cell_type": "code",
   "execution_count": null,
   "metadata": {},
   "outputs": [],
   "source": [
    "os.path.join()"
   ]
  },
  {
   "cell_type": "code",
   "execution_count": null,
   "metadata": {},
   "outputs": [],
   "source": [
    "file = open('filename', 'r/w/wb+')\n",
    "file.write"
   ]
  },
  {
   "cell_type": "code",
   "execution_count": null,
   "metadata": {},
   "outputs": [],
   "source": [
    "ftp = FTP('URL')"
   ]
  },
  {
   "cell_type": "code",
   "execution_count": null,
   "metadata": {},
   "outputs": [],
   "source": [
    "ftp.login('user', 'pass')"
   ]
  },
  {
   "cell_type": "code",
   "execution_count": null,
   "metadata": {},
   "outputs": [],
   "source": [
    "ftp.cwd()"
   ]
  },
  {
   "cell_type": "code",
   "execution_count": null,
   "metadata": {},
   "outputs": [],
   "source": [
    "ftp.nlst()"
   ]
  },
  {
   "cell_type": "code",
   "execution_count": null,
   "metadata": {},
   "outputs": [],
   "source": [
    "ftp.retrbinary('RETR '+ t02files[fi], file.write)"
   ]
  },
  {
   "cell_type": "code",
   "execution_count": null,
   "metadata": {
    "scrolled": true
   },
   "outputs": [],
   "source": [
    "%whos"
   ]
  },
  {
   "cell_type": "code",
   "execution_count": null,
   "metadata": {},
   "outputs": [],
   "source": [
    "try:\n",
    "    [commands]\n",
    "except: pass"
   ]
  }
 ],
 "metadata": {
  "kernelspec": {
   "display_name": "Python 3",
   "language": "python",
   "name": "python3"
  },
  "language_info": {
   "codemirror_mode": {
    "name": "ipython",
    "version": 3
   },
   "file_extension": ".py",
   "mimetype": "text/x-python",
   "name": "python",
   "nbconvert_exporter": "python",
   "pygments_lexer": "ipython3",
   "version": "3.7.3"
  }
 },
 "nbformat": 4,
 "nbformat_minor": 2
}
