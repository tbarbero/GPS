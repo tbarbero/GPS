{
 "cells": [
  {
   "cell_type": "code",
   "execution_count": null,
   "metadata": {},
   "outputs": [],
   "source": [
    "from ftplib import FTP\n",
    "import os, sys, os.path"
   ]
  },
  {
   "cell_type": "code",
   "execution_count": null,
   "metadata": {},
   "outputs": [],
   "source": [
    "ftp = FTP('GPS_Address')\n",
    "print('Attempting login into Evan Research Lab GPS...')\n",
    "ftp.login('user', 'pass')\n",
    "print('Login successful.')"
   ]
  },
  {
   "cell_type": "code",
   "execution_count": null,
   "metadata": {},
   "outputs": [],
   "source": [
    "ftp.cwd('/Internal')\n",
    "print('Returning to Top Internal Directory')"
   ]
  },
  {
   "cell_type": "code",
   "execution_count": null,
   "metadata": {},
   "outputs": [],
   "source": [
    "localdir = ('/home/tbarbero/gps/')\n",
    "#localdir = ('/Users/tyler/Desktop/') - for testing in local computer\n",
    "m = ftp.nlst()\n",
    "mons = [m[i][43:49] for i in range(0,len(m))]\n",
    "months = []\n",
    "for a in range(0,len(mons)):\n",
    "    if mons[a][0:2] == '20':\n",
    "        months.append(mons[a])\n",
    "        \n",
    "for month in months:\n",
    "    ftp.cwd('/Internal')\n",
    "    print('CD into ', month)\n",
    "    ftp.cwd(month)\n",
    "    d = ftp.nlst()\n",
    "    days = [d[c][43:49] for c in range(0,len(d))]\n",
    "    for day in days:\n",
    "        ftp.cwd('/Internal/'+month)\n",
    "        print('CD into ', day)\n",
    "        ftp.cwd(day)\n",
    "        f = ftp.nlst()\n",
    "        files = [f[e][43:56] for e in range(0,len(f))]\n",
    "        t02files = []\n",
    "        for g in range(0,len(files)):\n",
    "            if files[g][9:13] == '.T02':\n",
    "                t02files.append(files[g])\n",
    "                \n",
    "        for fi in range(0,len(t02files)):\n",
    "            os.chdir(localdir)\n",
    "            try:\n",
    "                os.mkdir(month)\n",
    "            except:pass\n",
    "            os.chdir(month)\n",
    "            try:\n",
    "                os.mkdir(day)\n",
    "            except:pass\n",
    "            os.chdir(day)\n",
    "            \n",
    "            localfile = os.path.join(localdir,month,day,t02files[fi])\n",
    "            print('Copying ', localfile)\n",
    "            file = open(t02files[fi], \"wb+\")\n",
    "            ftp.retrbinary('RETR '+ t02files[fi], file.write)\n",
    "            file.close()\n",
    "ftp.quit()\n",
    "print('Leaving FTP-GPS session...')"
   ]
  },
  {
   "cell_type": "markdown",
   "metadata": {},
   "source": [
    "File format name : YYMMDDHH (UTC Time)\n",
    ".T02 files need to be converted to RINEX Files"
   ]
  },
  {
   "cell_type": "code",
   "execution_count": null,
   "metadata": {},
   "outputs": [],
   "source": [
    "# File names are messed up long strings with other information\n",
    "# We need a list of just the months '201909, 201910' etc...\n",
    "# mons isolates the file names, but theres ax random 'lost+found' directory so we do this again\n",
    "# months isolates only the MONTH file names"
   ]
  }
 ],
 "metadata": {
  "kernelspec": {
   "display_name": "Python 3",
   "language": "python",
   "name": "python3"
  },
  "language_info": {
   "codemirror_mode": {
    "name": "ipython",
    "version": 3
   },
   "file_extension": ".py",
   "mimetype": "text/x-python",
   "name": "python",
   "nbconvert_exporter": "python",
   "pygments_lexer": "ipython3",
   "version": "3.7.3"
  }
 },
 "nbformat": 4,
 "nbformat_minor": 2
}
