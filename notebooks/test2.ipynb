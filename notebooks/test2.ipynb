{
 "cells": [
  {
   "cell_type": "code",
   "execution_count": 1,
   "metadata": {},
   "outputs": [],
   "source": [
    "from ftplib import FTP\n",
    "import os, sys, os.path"
   ]
  },
  {
   "cell_type": "code",
   "execution_count": 29,
   "metadata": {
    "scrolled": true
   },
   "outputs": [
    {
     "name": "stdout",
     "output_type": "stream",
     "text": [
      "Attempting login into Evan Lab GPS...\n",
      "Login successful.\n",
      "['drw-r--r-- 1 ftp ftp    32724 Sep 24 18:18 201909', 'drw-r--r-- 1 ftp ftp    32724 Sep 27 17:00 lost+found']\n",
      "['201909', 'lost+f']\n",
      "['201909']\n",
      "['22', '23']\n",
      "['83142650D.T02', '83142650E.T02', '83142651D.T02', '83142651E.T02', '83142652D.T02', '83142652E.T02', '83142653D.T02', '83142653E.T02', '83142654D.T02']\n",
      "AAAAAAAAA\n",
      "opening an empty file for:  83142650D.T02\n",
      "opening an empty file for:  83142650E.T02\n",
      "opening an empty file for:  83142651D.T02\n",
      "opening an empty file for:  83142651E.T02\n",
      "opening an empty file for:  83142652D.T02\n",
      "opening an empty file for:  83142652E.T02\n",
      "opening an empty file for:  83142653D.T02\n",
      "opening an empty file for:  83142653E.T02\n",
      "opening an empty file for:  83142654D.T02\n",
      "opening an empty file for:  83142650D.T02\n",
      "opening an empty file for:  83142650E.T02\n",
      "opening an empty file for:  83142651D.T02\n",
      "opening an empty file for:  83142651E.T02\n",
      "opening an empty file for:  83142652D.T02\n",
      "opening an empty file for:  83142652E.T02\n",
      "opening an empty file for:  83142653D.T02\n",
      "opening an empty file for:  83142653E.T02\n",
      "opening an empty file for:  83142654D.T02\n"
     ]
    }
   ],
   "source": [
    "ftp = FTP('evan-lab-gps.ucsd.edu') \n",
    "print('Attempting login into Evan Lab GPS...')\n",
    "ftp.login('admin', 'evanlab')\n",
    "print('Login successful.')\n",
    "ftp.cwd('Internal');\n",
    "months = ftp.nlst()\n",
    "print(months)\n",
    "mons = [months[i][43:49] for i in range(0,len(months))]\n",
    "\n",
    "print(mons)\n",
    "\n",
    "monz = []\n",
    "for i in range(0,len(mons)):\n",
    "    if mons[i][0:4] == '2019':\n",
    "        monz.append(mons[i])\n",
    "print(monz)        \n",
    "\n",
    "for month in monz:\n",
    "    try:\n",
    "        ftp.cwd(month)\n",
    "        days = ftp.nlst() \n",
    "        #print(days)\n",
    "        ds = [days[i][43:49] for i in range(0,len(days))]\n",
    "        print(ds)\n",
    "        for day in ds:\n",
    "            try:\n",
    "                ftp.cwd(day)\n",
    "                datasets = ftp.nlst()\n",
    "                data = [datasets[i][43:56] for i in range(0,len(datasets))]\n",
    "                filename = []\n",
    "                \n",
    "                for x in range(0,len(data)):\n",
    "                    d = data[x]\n",
    "                    if d[9:13] == '.T02':\n",
    "                        filename.append(d)\n",
    "                        \n",
    "                print(filename)         \n",
    "                ftp.pwd()\n",
    "                \n",
    "            except: pass\n",
    "    except: pass\n",
    "\n",
    "ftp.quit()\n",
    "\n",
    "# The problem with creating directories is that I need to reset to the local directory gpsfiletesting everytime\n",
    "print('AAAAAAAAA')\n",
    "ldir = ('/Users/tyler/Desktop/gpsfiletesting/')\n",
    "for d in ds:\n",
    "    os.chdir(ldir)\n",
    "    os.mkdir(d)\n",
    "    os.chdir(d)\n",
    "    for f in filename:\n",
    "        lfile = os.path.join(ldir, d, f)\n",
    "        file = open(lfile, 'w')\n",
    "        print('opening an empty file for: ', f)\n",
    "        file.close()\n",
    "# ldir = os.path.join('/Users/tyler/Desktop/gpsfiletesting/')\n",
    "# # # Create day directories\n",
    "# for daay in ds:\n",
    "#     os.mkdir(daay)\n",
    "#     os.chdir(ldir + daay + '/')\n",
    "#     print(os.getcwd())\n",
    "#     # Create text files under the path: '/Users/tyler/Desktop/gpsfiletesting/'respective_day''\n",
    "#     for f in filename:\n",
    "#         local_filename = os.path.join(ldir, daay, f) #path to local file dir\n",
    "#         local_files = open(local_filename, 'w+')\n",
    "#         local_files.close()\n",
    "\n",
    "# ftp = FTP('evan-lab-gps.ucsd.edu') \n",
    "# print('Attempting login into Evan Lab GPS...')\n",
    "# ftp.login('admin', 'evanlab')\n",
    "# print('Login successful.')\n",
    "\n",
    "# ftp.cwd('Internal');\n",
    "# ftp.cwd('201909')\n",
    "# ftp.cwd('22')\n",
    "# ftp.pwd()\n",
    "# datasets = ftp.nlst()\n",
    "# data = [datasets[i][43:56] for i in range(0,len(datasets))]\n",
    "\n",
    "# filename = []\n",
    "# for x in range(0,len(data)):\n",
    "#     d = data[x]\n",
    "#     if d[9:13] == '.T02':\n",
    "#         filename.append(d)\n",
    "        \n",
    "# print(filename)\n",
    "\n",
    "# print(ftp.pwd())\n",
    "\n",
    "# for f in filename:\n",
    "    \n",
    "#     print(f)\n",
    "#     print(local_filename)\n",
    "#     print('Writing binary data in GPS file ', f, 'to', local_filename)\n",
    "#     print('-------')\n",
    "    \n",
    "#     file=open(local_filename, 'wb') #writing the file f in filename to a local file on my computer\n",
    "#     ftp.retrbinary('RETR ' + f, file.write)\n",
    "#     file.close()\n",
    "    \n",
    "# ftp.quit()"
   ]
  },
  {
   "cell_type": "code",
   "execution_count": 28,
   "metadata": {},
   "outputs": [
    {
     "data": {
      "text/plain": [
       "'/Users/tyler/Desktop/gpsfiletesting'"
      ]
     },
     "execution_count": 28,
     "metadata": {},
     "output_type": "execute_result"
    }
   ],
   "source": [
    "cwd = os.getcwd()\n",
    "cwd"
   ]
  },
  {
   "cell_type": "code",
   "execution_count": 18,
   "metadata": {
    "scrolled": true
   },
   "outputs": [
    {
     "name": "stdout",
     "output_type": "stream",
     "text": [
      "Variable   Type             Data/Info\n",
      "-------------------------------------\n",
      "FTP        type             <class 'ftplib.FTP'>\n",
      "d          str              83142654D.kmz\n",
      "data       list             n=99\n",
      "datasets   list             n=99\n",
      "day        str              23\n",
      "days       list             n=2\n",
      "ds         list             n=2\n",
      "f          str              83142650D.T02\n",
      "file       TextIOWrapper    <_io.TextIOWrapper name='<...>ode='w' encoding='UTF-8'>\n",
      "filename   list             n=9\n",
      "ftp        FTP              <ftplib.FTP object at 0x10ee16a20>\n",
      "i          int              1\n",
      "ldir       str              /Users/tyler/Desktop/gpsfiletesting/\n",
      "lfile      str              /Users/tyler/Desktop/gpsf<...>etesting/22/83142650D.T02\n",
      "mons       list             n=2\n",
      "month      str              201909\n",
      "months     list             n=2\n",
      "monz       list             n=1\n",
      "os         module           <module 'os' from '/anaco<...>da3/lib/python3.7/os.py'>\n",
      "sys        module           <module 'sys' (built-in)>\n",
      "x          int              98\n"
     ]
    }
   ],
   "source": [
    "%whos"
   ]
  },
  {
   "cell_type": "code",
   "execution_count": null,
   "metadata": {},
   "outputs": [],
   "source": []
  }
 ],
 "metadata": {
  "kernelspec": {
   "display_name": "Python 3",
   "language": "python",
   "name": "python3"
  },
  "language_info": {
   "codemirror_mode": {
    "name": "ipython",
    "version": 3
   },
   "file_extension": ".py",
   "mimetype": "text/x-python",
   "name": "python",
   "nbconvert_exporter": "python",
   "pygments_lexer": "ipython3",
   "version": "3.7.3"
  }
 },
 "nbformat": 4,
 "nbformat_minor": 2
}
